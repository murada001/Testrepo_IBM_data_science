{
  "metadata": {
    "language_info": {
      "codemirror_mode": {
        "name": "python",
        "version": 3
      },
      "file_extension": ".py",
      "mimetype": "text/x-python",
      "name": "python",
      "nbconvert_exporter": "python",
      "pygments_lexer": "ipython3",
      "version": "3.8"
    },
    "kernelspec": {
      "name": "python",
      "display_name": "Python (Pyodide)",
      "language": "python"
    }
  },
  "nbformat_minor": 4,
  "nbformat": 4,
  "cells": [
    {
      "cell_type": "markdown",
      "source": "# My Jupyter Notebook on Jupyter Lab",
      "metadata": {}
    },
    {
      "cell_type": "markdown",
      "source": "**Murad Abdulrehman**",
      "metadata": {}
    },
    {
      "cell_type": "markdown",
      "source": "*I am interested to study data science so I can solve business problems at my work using data*",
      "metadata": {}
    },
    {
      "cell_type": "markdown",
      "source": "### My code below is going to calculate average of 3 numbers ###",
      "metadata": {}
    },
    {
      "cell_type": "code",
      "source": " (10 + 20 + 30) / 3",
      "metadata": {
        "trusted": true
      },
      "execution_count": 3,
      "outputs": [
        {
          "execution_count": 3,
          "output_type": "execute_result",
          "data": {
            "text/plain": "20.0"
          },
          "metadata": {}
        }
      ]
    },
    {
      "cell_type": "markdown",
      "source": "-------------*Horizontal Rule*",
      "metadata": {}
    },
    {
      "cell_type": "markdown",
      "source": "*Bullet List Below*\n- First Task\n- Second Task\n- Third Task",
      "metadata": {}
    },
    {
      "cell_type": "markdown",
      "source": "*Numberred List Below*\n1. First Task\n2. Second Task\n3. Third Task",
      "metadata": {}
    },
    {
      "cell_type": "code",
      "source": "",
      "metadata": {},
      "execution_count": null,
      "outputs": []
    }
  ]
}